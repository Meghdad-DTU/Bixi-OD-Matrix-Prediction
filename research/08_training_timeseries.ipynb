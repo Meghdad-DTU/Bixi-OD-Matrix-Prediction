{
 "cells": [
  {
   "cell_type": "code",
   "execution_count": 1,
   "metadata": {},
   "outputs": [
    {
     "data": {
      "text/plain": [
       "'/home/paladin/Downloads/Bixi-OD-Matrix-Prediction/Bixi-OD-Matrix-Prediction'"
      ]
     },
     "execution_count": 1,
     "metadata": {},
     "output_type": "execute_result"
    }
   ],
   "source": [
    "import os\n",
    "os.chdir('../')\n",
    "%pwd"
   ]
  },
  {
   "cell_type": "code",
   "execution_count": 2,
   "metadata": {},
   "outputs": [],
   "source": [
    "from dataclasses import dataclass\n",
    "from pathlib import Path\n",
    "\n",
    "@dataclass(frozen=True)\n",
    "class TrainingTimeseriesConfig:    \n",
    "    root_dir: Path\n",
    "    trained_od_model_path: Path    \n",
    "    base_od_model_path: Path\n",
    "    trained_tensor_model_path: Path    \n",
    "    base_tensor_model_path: Path     \n",
    "    training_od_data: Path    \n",
    "    training_tensor_data: Path    \n",
    "    params_od_size: list\n",
    "    params_tensor_size: list\n",
    "    params_epochs: int\n",
    "    params_batch_size: int   \n",
    "    learning_rate: float\n",
    "    validation_ratio: float\n",
    "    params_time_lag: int\n",
    "\n",
    "@dataclass(frozen=True)\n",
    "class PrepareCallbacksConfig:\n",
    "    root_dir: Path\n",
    "    tensorboard_root_log_dir: Path\n",
    "    ckeckpoint_model_filepath: Path\n",
    "    patience: int"
   ]
  },
  {
   "cell_type": "code",
   "execution_count": 3,
   "metadata": {},
   "outputs": [],
   "source": [
    "from timeseriesPredictor.utils import read_yaml, create_directories\n",
    "from timeseriesPredictor.constants import *"
   ]
  },
  {
   "cell_type": "code",
   "execution_count": 4,
   "metadata": {},
   "outputs": [],
   "source": [
    "class configurationManeger:\n",
    "    def __init__(self, \n",
    "                 config_filepath = CONFIG_FILE_PATH,\n",
    "                 secret_filepath = SECRET_FILE_PATH,                 \n",
    "                 params_filepath = PARAMS_FILE_PATH):\n",
    "        \n",
    "        self.config = read_yaml(config_filepath) \n",
    "        self.secret = read_yaml(secret_filepath)        \n",
    "        self.params = read_yaml(params_filepath)\n",
    "\n",
    "        create_directories([self.config.artifacts_root])\n",
    "\n",
    "    def get_prepare_callbacks_config(self) -> PrepareCallbacksConfig:\n",
    "        config = self.config.prepare_callbacks\n",
    "        model_ckpt_dir = os.path.dirname(config.ckeckpoint_model_filepath)\n",
    "\n",
    "        create_directories([config.tensorboard_root_log_dir, model_ckpt_dir ])\n",
    "\n",
    "        prepare_callbacks_config = PrepareCallbacksConfig(\n",
    "           root_dir= config.root_dir,\n",
    "           tensorboard_root_log_dir= config.tensorboard_root_log_dir,\n",
    "           ckeckpoint_model_filepath=  config.ckeckpoint_model_filepath,\n",
    "           patience = self.params.PATIENCE\n",
    "\n",
    "        )\n",
    "\n",
    "        return prepare_callbacks_config\n",
    "    \n",
    "    def get_timeseries_training_config(self) -> TrainingTimeseriesConfig:\n",
    "        config= self.config.training_autoencoder        \n",
    "        \n",
    "        create_directories([config.root_dir])\n",
    "\n",
    "        training_timeseries_config = TrainingTimeseriesConfig(\n",
    "        root_dir= config.root_dir,\n",
    "        trained_od_model_path= config.trained_od_model_path, \n",
    "        base_od_model_path = self.config.prepare_timeseries_base_model.base_od_model_path,\n",
    "        trained_tensor_model_path= config.trained_tensor_model_path, \n",
    "        base_tensor_model_path = self.config.prepare_timeseries_base_model.base_tensor_model_path,\n",
    "        training_od_data= self.config.data_transformation.local_train_od_dir,        \n",
    "        training_tensor_data= self.config.data_transformation.local_train_tensor_dir,        \n",
    "        params_epochs= self.params.EPOCHS, \n",
    "        params_batch_size= self.params.BATCH_SIZE,      \n",
    "        params_od_size= self.params.OD_SIZE,\n",
    "        params_tensor_size=self.params.TENSOR_SIZE,\n",
    "        learning_rate= self.params.LEARNING_RATE,\n",
    "        validation_ratio= self.params.VALIDATION_RATIO,\n",
    "        params_time_lag= self.params.TIME_LAG\n",
    "        )\n",
    "\n",
    "        return training_timeseries_config"
   ]
  },
  {
   "cell_type": "code",
   "execution_count": 5,
   "metadata": {},
   "outputs": [
    {
     "name": "stderr",
     "output_type": "stream",
     "text": [
      "2023-08-15 14:54:42.788876: I tensorflow/tsl/cuda/cudart_stub.cc:28] Could not find cuda drivers on your machine, GPU will not be used.\n",
      "2023-08-15 14:54:42.846070: I tensorflow/tsl/cuda/cudart_stub.cc:28] Could not find cuda drivers on your machine, GPU will not be used.\n",
      "2023-08-15 14:54:42.847270: I tensorflow/core/platform/cpu_feature_guard.cc:182] This TensorFlow binary is optimized to use available CPU instructions in performance-critical operations.\n",
      "To enable the following instructions: AVX2 FMA, in other operations, rebuild TensorFlow with the appropriate compiler flags.\n",
      "2023-08-15 14:54:43.898341: W tensorflow/compiler/tf2tensorrt/utils/py_utils.cc:38] TF-TRT Warning: Could not find TensorRT\n"
     ]
    }
   ],
   "source": [
    "from timeseriesPredictor.utils import model_loss, convert_to_supervised\n",
    "import keras\n",
    "import pickle"
   ]
  },
  {
   "cell_type": "code",
   "execution_count": 6,
   "metadata": {},
   "outputs": [],
   "source": [
    "class TrainingTimeseries:\n",
    "    def __init__(self, config: TrainingTimeseriesConfig):\n",
    "        self.config= config\n",
    "\n",
    "    @staticmethod\n",
    "    def get_base_model(path:Path):\n",
    "        model = keras.models.load_model(path)\n",
    "        return model  \n",
    "\n",
    "    @staticmethod\n",
    "    def load_pickle_file(path: Path):\n",
    "        file= open(path, 'rb')\n",
    "        obj = pickle.load(file)\n",
    "        return obj\n",
    "    \n",
    "    @staticmethod\n",
    "    def save_model(path:Path, model:keras.Model):\n",
    "        model.save(path)\n",
    "\n",
    "    def data_preparation(self, path: Path, mat_size):\n",
    "        data = self.load_pickle_file(path)\n",
    "        data = data.reshape(data.shape[0], data.shape[1]*data.shape[2])\n",
    "        X, _ = convert_to_supervised(data, self.config.params_time_lag)\n",
    "        X = X.reshape(X.shape[0], self.config.params_time_lag, mat_size[0], mat_size[1], 1 )        \n",
    "        x = X[:, 0 : X.shape[1] - 1, :, :]\n",
    "        y = X[:, 1 : X.shape[1], :, :]        \n",
    "        return x, y\n",
    "\n",
    "    def train(self, callback_list: list): \n",
    "        mat_sizes = [self.config.params_od_size, self.config.params_tensor_size]\n",
    "        training_data_path = [self.config.training_od_data, self.config.training_tensor_data]\n",
    "        base_model_paths = [self.config.base_od_model_path, self.config.base_tensor_model_path] \n",
    "        trained_model_paths = [self.config.trained_od_model_path, self.config.trained_tensor_model_path]       \n",
    "        \n",
    "        for mat_size, path, base_model_path, trained_model_path in zip(mat_sizes, training_data_path, base_model_paths, trained_model_paths):\n",
    "            model = self.get_base_model(base_model_path) \n",
    "            X_train, y_train = self.data_preparation(path, mat_size)\n",
    "\n",
    "            history = model.fit(X_train, y_train,\n",
    "                validation_split=self.config.validation_ratio,           \n",
    "                epochs= self.config.params_epochs,\n",
    "                batch_size = self.config.params_batch_size,            \n",
    "                callbacks = callback_list\n",
    "                )\n",
    "        \n",
    "            model_loss(history)\n",
    "            self.save_model(path=trained_model_path, model= model)"
   ]
  },
  {
   "cell_type": "code",
   "execution_count": 7,
   "metadata": {},
   "outputs": [],
   "source": [
    "import sys\n",
    "from timeseriesPredictor.exception import CustomException\n",
    "from timeseriesPredictor.components.prepare_callbacks import PrepareCallbacks "
   ]
  },
  {
   "cell_type": "code",
   "execution_count": 8,
   "metadata": {},
   "outputs": [
    {
     "name": "stdout",
     "output_type": "stream",
     "text": [
      " 2/17 [==>...........................] - ETA: 13:26 - loss: 0.6840"
     ]
    }
   ],
   "source": [
    "try:\n",
    "    config = configurationManeger()\n",
    "    prepare_callbacks_config = config.get_prepare_callbacks_config()\n",
    "    prepare_callbacks = PrepareCallbacks(config=prepare_callbacks_config)\n",
    "    callback_list = prepare_callbacks.get_tb_ckpt_es_callbacks()\n",
    "\n",
    "    training_config = config.get_timeseries_training_config()\n",
    "    training = TrainingTimeseries(config= training_config)   \n",
    "    training.train(callback_list= callback_list)\n",
    "\n",
    "except Exception as e:\n",
    "    raise CustomException(e, sys)"
   ]
  }
 ],
 "metadata": {
  "kernelspec": {
   "display_name": "venv",
   "language": "python",
   "name": "python3"
  },
  "language_info": {
   "codemirror_mode": {
    "name": "ipython",
    "version": 3
   },
   "file_extension": ".py",
   "mimetype": "text/x-python",
   "name": "python",
   "nbconvert_exporter": "python",
   "pygments_lexer": "ipython3",
   "version": "3.8.6"
  },
  "orig_nbformat": 4
 },
 "nbformat": 4,
 "nbformat_minor": 2
}
