{
 "cells": [
  {
   "cell_type": "code",
   "execution_count": 1,
   "metadata": {},
   "outputs": [],
   "source": [
    "import os"
   ]
  },
  {
   "cell_type": "code",
   "execution_count": 2,
   "metadata": {},
   "outputs": [
    {
     "data": {
      "text/plain": [
       "'/home/paladin/Downloads/Bixi-OD-Matrix-Prediction/Bixi-OD-Matrix-Prediction'"
      ]
     },
     "execution_count": 2,
     "metadata": {},
     "output_type": "execute_result"
    }
   ],
   "source": [
    "os.chdir('../')\n",
    "%pwd"
   ]
  },
  {
   "cell_type": "code",
   "execution_count": 3,
   "metadata": {},
   "outputs": [],
   "source": [
    "from dataclasses import dataclass\n",
    "from pathlib import Path\n",
    "\n",
    "@dataclass\n",
    "class PrepareAutoencoderBaseModelConfig:\n",
    "    root_dir: Path    \n",
    "    base_od_model_path: Path\n",
    "    base_tensor_model_path: Path      \n",
    "    params_od_size: list\n",
    "    params_tensor_size: list\n",
    "    params_learning_rate: float"
   ]
  },
  {
   "cell_type": "code",
   "execution_count": 4,
   "metadata": {},
   "outputs": [],
   "source": [
    "from timeseriesPredictor.constants import *\n",
    "from timeseriesPredictor.utils import read_yaml, create_directories"
   ]
  },
  {
   "cell_type": "code",
   "execution_count": 5,
   "metadata": {},
   "outputs": [],
   "source": [
    "class configurationManeger:\n",
    "    def __init__(self, \n",
    "                 config_filepath = CONFIG_FILE_PATH,\n",
    "                 secret_filepath = SECRET_FILE_PATH,                 \n",
    "                 params_filepath = PARAMS_FILE_PATH):\n",
    "        \n",
    "        self.config = read_yaml(config_filepath) \n",
    "        self.secret = read_yaml(secret_filepath)        \n",
    "        self.params = read_yaml(params_filepath)\n",
    "\n",
    "        create_directories([self.config.artifacts_root])\n",
    "\n",
    "    \n",
    "    def get_prepare_autoencoder_base_model_config(self) -> PrepareAutoencoderBaseModelConfig:\n",
    "        config = self.config.prepare_autoencoder_base_model\n",
    "        \n",
    "        create_directories([config.root_dir])\n",
    "\n",
    "        prepare_autoencoder_base_model_config = PrepareAutoencoderBaseModelConfig(\n",
    "            root_dir = config.root_dir,           \n",
    "            base_od_model_path = config.base_od_model_path,    \n",
    "            base_tensor_model_path = config.base_tensor_model_path,                   \n",
    "            params_od_size = self.params.OD_SIZE,\n",
    "            params_tensor_size= self.params.TENSOR_SIZE,\n",
    "            params_learning_rate = self.params.LEARNING_RATE,          \n",
    "\n",
    "        )\n",
    "\n",
    "        return prepare_autoencoder_base_model_config"
   ]
  },
  {
   "cell_type": "code",
   "execution_count": 6,
   "metadata": {},
   "outputs": [
    {
     "name": "stderr",
     "output_type": "stream",
     "text": [
      "2023-08-11 15:43:34.347949: I tensorflow/tsl/cuda/cudart_stub.cc:28] Could not find cuda drivers on your machine, GPU will not be used.\n",
      "2023-08-11 15:43:34.413897: I tensorflow/tsl/cuda/cudart_stub.cc:28] Could not find cuda drivers on your machine, GPU will not be used.\n",
      "2023-08-11 15:43:34.415181: I tensorflow/core/platform/cpu_feature_guard.cc:182] This TensorFlow binary is optimized to use available CPU instructions in performance-critical operations.\n",
      "To enable the following instructions: AVX2 FMA, in other operations, rebuild TensorFlow with the appropriate compiler flags.\n",
      "2023-08-11 15:43:35.622950: W tensorflow/compiler/tf2tensorrt/utils/py_utils.cc:38] TF-TRT Warning: Could not find TensorRT\n"
     ]
    }
   ],
   "source": [
    "from timeseriesPredictor.logger import logging\n",
    "import keras"
   ]
  },
  {
   "cell_type": "code",
   "execution_count": 7,
   "metadata": {},
   "outputs": [],
   "source": [
    "class PrepareAutoencoderBaseModel:\n",
    "    def __init__(self, config: PrepareAutoencoderBaseModelConfig):\n",
    "        self.config = config\n",
    "\n",
    "    @staticmethod\n",
    "    def save_model(path:Path, model:keras.Model):\n",
    "        model.save(path)\n",
    "\n",
    "    @staticmethod\n",
    "    def _prepare_full_model(learning_rate, input_shape, tensor=False):\n",
    "\n",
    "        if tensor:\n",
    "            upsampling1 = (4,4)\n",
    "            upsampling2 = (2,2)            \n",
    "        else:\n",
    "            upsampling1 = (4,4)\n",
    "            upsampling2 = (2,2)\n",
    "        \n",
    "        inputs = keras.layers.Input(shape= input_shape, name='matrix_array') \n",
    "        # encoder\n",
    "        x = keras.layers.Convolution2D(filters=18, kernel_size=(3, 3), padding='same')(inputs)\n",
    "        x = keras.layers.BatchNormalization()(x)\n",
    "        x = keras.layers.Activation('relu')(x)\n",
    "        x = keras.layers.MaxPooling2D(pool_size=(2, 2))(x)\n",
    "        x = keras.layers.Dropout(0.25)(x)          \n",
    "      \n",
    "        bottleneck = keras.layers.MaxPooling2D(pool_size=(2, 2), padding='same', name='bottleneck')(x)        \n",
    "        \n",
    "        # decoder\n",
    "        x = keras.layers.UpSampling2D(upsampling1)(bottleneck)\n",
    "        x = keras.layers.Convolution2D(filters=9, kernel_size=(3, 3), padding='same')(x)\n",
    "        x = keras.layers.BatchNormalization()(x)      \n",
    "        x = keras.layers.Activation('relu')(x)\n",
    "        x = keras.layers.MaxPooling2D(pool_size=(2, 2), padding='same')(x)\n",
    "        x = keras.layers.Dropout(0.25)(x)\n",
    "        x = keras.layers.UpSampling2D(upsampling2)(x)\n",
    "\n",
    "        decoder = keras.layers.Convolution2D(filters=1, kernel_size=(3, 3), activation='linear', padding='same')(x)      \n",
    "        full_model = keras.Model(inputs=inputs, outputs=decoder)           \n",
    "\n",
    "        full_model.compile(\n",
    "            optimizer=keras.optimizers.Adam(learning_rate=learning_rate),\n",
    "            loss = 'mean_squared_error' ,\n",
    "            metrics=['MSE']           \n",
    "                           )\n",
    "        \n",
    "        full_model.summary()\n",
    "        return full_model\n",
    "    \n",
    "    def update_model(self):\n",
    "        input_shapes = [self.config.params_od_size, self.config.params_tensor_size]\n",
    "        model_pathes = [self.config.base_od_model_path, self.config.base_tensor_model_path]\n",
    "        tensors = [False, True]\n",
    "        for input_shape, model_path, tensor  in zip(input_shapes, model_pathes, tensors):\n",
    "            self.full_model = self._prepare_full_model(        \n",
    "            learning_rate = self.config.params_learning_rate,\n",
    "            input_shape = input_shape,\n",
    "            tensor = tensor\n",
    "            )\n",
    "\n",
    "            self.save_model(path=model_path , model=self.full_model)\n",
    "            logging.info(f\"Autoencoder base model saved at {model_path}!\")\n",
    "\n",
    "    "
   ]
  },
  {
   "cell_type": "code",
   "execution_count": 8,
   "metadata": {},
   "outputs": [],
   "source": [
    "import sys\n",
    "from timeseriesPredictor.exception import CustomException"
   ]
  },
  {
   "cell_type": "code",
   "execution_count": 9,
   "metadata": {},
   "outputs": [
    {
     "name": "stdout",
     "output_type": "stream",
     "text": [
      "Model: \"model\"\n",
      "_________________________________________________________________\n",
      " Layer (type)                Output Shape              Param #   \n",
      "=================================================================\n",
      " matrix_array (InputLayer)   [(None, 64, 64, 3)]       0         \n",
      "                                                                 \n",
      " conv2d (Conv2D)             (None, 64, 64, 18)        504       \n",
      "                                                                 \n",
      " batch_normalization (Batch  (None, 64, 64, 18)        72        \n",
      " Normalization)                                                  \n",
      "                                                                 \n",
      " activation (Activation)     (None, 64, 64, 18)        0         \n",
      "                                                                 \n",
      " max_pooling2d (MaxPooling2  (None, 32, 32, 18)        0         \n",
      " D)                                                              \n",
      "                                                                 \n",
      " dropout (Dropout)           (None, 32, 32, 18)        0         \n",
      "                                                                 \n",
      " bottleneck (MaxPooling2D)   (None, 16, 16, 18)        0         \n",
      "                                                                 \n",
      " up_sampling2d (UpSampling2  (None, 64, 64, 18)        0         \n",
      " D)                                                              \n",
      "                                                                 \n",
      " conv2d_1 (Conv2D)           (None, 64, 64, 9)         1467      \n",
      "                                                                 \n",
      " batch_normalization_1 (Bat  (None, 64, 64, 9)         36        \n",
      " chNormalization)                                                \n",
      "                                                                 \n",
      " activation_1 (Activation)   (None, 64, 64, 9)         0         \n",
      "                                                                 \n",
      " max_pooling2d_1 (MaxPoolin  (None, 32, 32, 9)         0         \n",
      " g2D)                                                            \n",
      "                                                                 \n",
      " dropout_1 (Dropout)         (None, 32, 32, 9)         0         \n",
      "                                                                 \n",
      " up_sampling2d_1 (UpSamplin  (None, 64, 64, 9)         0         \n",
      " g2D)                                                            \n",
      "                                                                 \n",
      " conv2d_2 (Conv2D)           (None, 64, 64, 3)         246       \n",
      "                                                                 \n",
      "=================================================================\n",
      "Total params: 2325 (9.08 KB)\n",
      "Trainable params: 2271 (8.87 KB)\n",
      "Non-trainable params: 54 (216.00 Byte)\n",
      "_________________________________________________________________\n",
      "Model: \"model_1\"\n",
      "_________________________________________________________________\n",
      " Layer (type)                Output Shape              Param #   \n",
      "=================================================================\n",
      " matrix_array (InputLayer)   [(None, 100, 64, 3)]      0         \n",
      "                                                                 \n",
      " conv2d_3 (Conv2D)           (None, 100, 64, 18)       504       \n",
      "                                                                 \n",
      " batch_normalization_2 (Bat  (None, 100, 64, 18)       72        \n",
      " chNormalization)                                                \n",
      "                                                                 \n",
      " activation_2 (Activation)   (None, 100, 64, 18)       0         \n",
      "                                                                 \n",
      " max_pooling2d_2 (MaxPoolin  (None, 50, 32, 18)        0         \n",
      " g2D)                                                            \n",
      "                                                                 \n",
      " dropout_2 (Dropout)         (None, 50, 32, 18)        0         \n",
      "                                                                 \n",
      " bottleneck (MaxPooling2D)   (None, 25, 16, 18)        0         \n",
      "                                                                 \n",
      " up_sampling2d_2 (UpSamplin  (None, 100, 64, 18)       0         \n",
      " g2D)                                                            \n",
      "                                                                 \n",
      " conv2d_4 (Conv2D)           (None, 100, 64, 9)        1467      \n",
      "                                                                 \n",
      " batch_normalization_3 (Bat  (None, 100, 64, 9)        36        \n",
      " chNormalization)                                                \n",
      "                                                                 \n",
      " activation_3 (Activation)   (None, 100, 64, 9)        0         \n",
      "                                                                 \n",
      " max_pooling2d_3 (MaxPoolin  (None, 50, 32, 9)         0         \n",
      " g2D)                                                            \n",
      "                                                                 \n",
      " dropout_3 (Dropout)         (None, 50, 32, 9)         0         \n",
      "                                                                 \n",
      " up_sampling2d_3 (UpSamplin  (None, 100, 64, 9)        0         \n",
      " g2D)                                                            \n",
      "                                                                 \n",
      " conv2d_5 (Conv2D)           (None, 100, 64, 3)        246       \n",
      "                                                                 \n",
      "=================================================================\n",
      "Total params: 2325 (9.08 KB)\n",
      "Trainable params: 2271 (8.87 KB)\n",
      "Non-trainable params: 54 (216.00 Byte)\n"
     ]
    },
    {
     "name": "stderr",
     "output_type": "stream",
     "text": [
      "/home/paladin/Downloads/Bixi-OD-Matrix-Prediction/Bixi-OD-Matrix-Prediction/venv/lib/python3.8/site-packages/keras/src/engine/training.py:3000: UserWarning: You are saving your model as an HDF5 file via `model.save()`. This file format is considered legacy. We recommend using instead the native Keras format, e.g. `model.save('my_model.keras')`.\n",
      "  saving_api.save_model(\n"
     ]
    },
    {
     "name": "stdout",
     "output_type": "stream",
     "text": [
      "_________________________________________________________________\n"
     ]
    }
   ],
   "source": [
    "try:\n",
    "    config = configurationManeger()\n",
    "    prepare_auto_base_model_config = config.get_prepare_autoencoder_base_model_config()\n",
    "    prepare_auto_base_model = PrepareAutoencoderBaseModel(config=prepare_auto_base_model_config)    \n",
    "    prepare_auto_base_model.update_model()\n",
    "\n",
    "except Exception as e:\n",
    "    raise CustomException(e, sys)"
   ]
  }
 ],
 "metadata": {
  "kernelspec": {
   "display_name": "Python 3",
   "language": "python",
   "name": "python3"
  },
  "language_info": {
   "codemirror_mode": {
    "name": "ipython",
    "version": 3
   },
   "file_extension": ".py",
   "mimetype": "text/x-python",
   "name": "python",
   "nbconvert_exporter": "python",
   "pygments_lexer": "ipython3",
   "version": "3.8.6"
  }
 },
 "nbformat": 4,
 "nbformat_minor": 4
}
