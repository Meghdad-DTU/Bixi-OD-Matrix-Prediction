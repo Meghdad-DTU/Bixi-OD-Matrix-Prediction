{
 "cells": [
  {
   "cell_type": "code",
   "execution_count": 1,
   "metadata": {},
   "outputs": [],
   "source": [
    "import os"
   ]
  },
  {
   "cell_type": "code",
   "execution_count": 2,
   "metadata": {},
   "outputs": [
    {
     "data": {
      "text/plain": [
       "'/home/paladin/Downloads/Bixi-OD-Matrix-Prediction/Bixi-OD-Matrix-Prediction'"
      ]
     },
     "execution_count": 2,
     "metadata": {},
     "output_type": "execute_result"
    }
   ],
   "source": [
    "\n",
    "os.chdir(\"../\")\n",
    "%pwd"
   ]
  },
  {
   "cell_type": "code",
   "execution_count": 3,
   "metadata": {},
   "outputs": [],
   "source": [
    "from dataclasses import dataclass\n",
    "from pathlib import Path\n",
    "\n",
    "@dataclass(frozen=True)\n",
    "class DataIngestionConfig:\n",
    "    root_dir: Path\n",
    "    s3_bucket: str\n",
    "    s3_key: str\n",
    "    s3_secret_key: str\n",
    "    object_key: Path\n",
    "    local_data_file: Path\n",
    "    local_train_file: Path\n",
    "    local_val_file: Path\n",
    "    local_test_file:Path"
   ]
  },
  {
   "cell_type": "code",
   "execution_count": 5,
   "metadata": {},
   "outputs": [],
   "source": [
    "from timeseriesPredictor.constants import *\n",
    "from timeseriesPredictor.utils import read_yaml, create_directories, get_size"
   ]
  },
  {
   "cell_type": "code",
   "execution_count": 6,
   "metadata": {},
   "outputs": [],
   "source": [
    "class configurationManeger:\n",
    "    def __init__(self, \n",
    "                 config_filepath = CONFIG_FILE_PATH,\n",
    "                 secret_filepath = SECRET_FILE_PATH,                 \n",
    "                 params_filepath = PARAMS_FILE_PATH):\n",
    "        \n",
    "        self.config = read_yaml(config_filepath) \n",
    "        self.secret = read_yaml(secret_filepath)        \n",
    "        self.params = read_yaml(params_filepath)\n",
    "\n",
    "        create_directories([self.config.artifacts_root])\n",
    "\n",
    "    def get_data_ingestion_config(self) -> DataIngestionConfig:\n",
    "        config = self.config.data_ingestion   \n",
    "        secret = self.secret.aws_credential\n",
    "\n",
    "        create_directories([config.root_dir])\n",
    "        data_ingestion_config = DataIngestionConfig(\n",
    "            root_dir = config.root_dir,\n",
    "            s3_bucket = secret.s3_bucket,\n",
    "            s3_key = secret.s3_key,\n",
    "            s3_secret_key = secret.s3_secret_key,\n",
    "            object_key = secret.object_key,\n",
    "            local_data_file = config.local_data_file\n",
    "            \n",
    "\n",
    "        )\n",
    "\n",
    "        return data_ingestion_config"
   ]
  },
  {
   "cell_type": "code",
   "execution_count": 7,
   "metadata": {},
   "outputs": [],
   "source": [
    "from io import StringIO\n",
    "\n",
    "import boto3"
   ]
  },
  {
   "cell_type": "code",
   "execution_count": 8,
   "metadata": {},
   "outputs": [],
   "source": [
    "class DataIngestion:\n",
    "    def __init__(self, config: DataIngestionConfig):\n",
    "        self.config = config\n",
    "        self.client = boto3.client('s3',\n",
    "                      aws_access_key_id=self.config.s3_key,\n",
    "                      aws_secret_access_key=self.config.s3_secret_key\n",
    "                      )\n",
    "\n",
    "    def dowload_file(self):\n",
    "        if not os.path.exists(self.config.local_data_file):\n",
    "            csv_obj = self.client.get_object(Bucket=self.config.s3_bucket, Key=self.config.object_key)\n",
    "            body = csv_obj['Body']\n",
    "            csv_string = body.read().decode('utf-8')\n",
    "            df = pd.read_csv(StringIO(csv_string))\n",
    "            df.to_csv(self.config.local_data_file, index=False, header=True)\n",
    "            logging.info(f'{self.config.local_data_file} is downloaded!')            \n",
    "\n",
    "        else:\n",
    "            logging.info(f\"File alraedy exists of size : {get_size(Path(self.config.local_data_file))}\")"
   ]
  }
 ],
 "metadata": {
  "kernelspec": {
   "display_name": "Python 3",
   "language": "python",
   "name": "python3"
  },
  "language_info": {
   "codemirror_mode": {
    "name": "ipython",
    "version": 3
   },
   "file_extension": ".py",
   "mimetype": "text/x-python",
   "name": "python",
   "nbconvert_exporter": "python",
   "pygments_lexer": "ipython3",
   "version": "3.8.6"
  },
  "orig_nbformat": 4
 },
 "nbformat": 4,
 "nbformat_minor": 2
}
