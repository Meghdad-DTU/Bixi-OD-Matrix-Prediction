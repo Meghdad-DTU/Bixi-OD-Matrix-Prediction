{
 "cells": [
  {
   "cell_type": "code",
   "execution_count": 1,
   "metadata": {},
   "outputs": [
    {
     "data": {
      "text/plain": [
       "'/home/paladin/Downloads/Bixi-OD-Matrix-Prediction/Bixi-OD-Matrix-Prediction'"
      ]
     },
     "execution_count": 1,
     "metadata": {},
     "output_type": "execute_result"
    }
   ],
   "source": [
    "import os\n",
    "os.chdir('../')\n",
    "%pwd"
   ]
  },
  {
   "cell_type": "code",
   "execution_count": 2,
   "metadata": {},
   "outputs": [
    {
     "name": "stderr",
     "output_type": "stream",
     "text": [
      "2023-08-16 11:09:52.597410: I tensorflow/tsl/cuda/cudart_stub.cc:28] Could not find cuda drivers on your machine, GPU will not be used.\n",
      "2023-08-16 11:09:52.779961: I tensorflow/tsl/cuda/cudart_stub.cc:28] Could not find cuda drivers on your machine, GPU will not be used.\n",
      "2023-08-16 11:09:52.781829: I tensorflow/core/platform/cpu_feature_guard.cc:182] This TensorFlow binary is optimized to use available CPU instructions in performance-critical operations.\n",
      "To enable the following instructions: AVX2 FMA, in other operations, rebuild TensorFlow with the appropriate compiler flags.\n",
      "2023-08-16 11:09:54.053421: W tensorflow/compiler/tf2tensorrt/utils/py_utils.cc:38] TF-TRT Warning: Could not find TensorRT\n"
     ]
    }
   ],
   "source": [
    "import sys\n",
    "import numpy as np\n",
    "import keras\n",
    "from pathlib import Path\n",
    "import pickle\n",
    "from timeseriesPredictor.exception import CustomException"
   ]
  },
  {
   "cell_type": "code",
   "execution_count": 3,
   "metadata": {},
   "outputs": [
    {
     "data": {
      "text/plain": [
       "(635, 100, 64, 1)"
      ]
     },
     "execution_count": 3,
     "metadata": {},
     "output_type": "execute_result"
    }
   ],
   "source": [
    "def load_pickle_file(path: Path):\n",
    "    file= open(path, 'rb')\n",
    "    obj = pickle.load(file)\n",
    "    return obj\n",
    "\n",
    "data = load_pickle_file('artifacts/data_transformation/tensor/train.pkl')\n",
    "data.shape"
   ]
  },
  {
   "cell_type": "code",
   "execution_count": 4,
   "metadata": {},
   "outputs": [],
   "source": [
    "dat = data.reshape(data.shape[0],100*64)"
   ]
  },
  {
   "cell_type": "code",
   "execution_count": 5,
   "metadata": {},
   "outputs": [],
   "source": [
    "def split_sequence(sequence, lag):\n",
    "        '''\n",
    "        This function splits a given univariate sequence into\n",
    "        multiple samples where each sample has a specified number\n",
    "        of time steps and the output is a single time step.\n",
    "        param new_input: If True it is used for predicting new input\n",
    "        '''\n",
    "        try:\n",
    "                \n",
    "            X, y = list(), list()\n",
    "            for i in range(len(sequence)):\n",
    "                # find the end of this pattern\n",
    "                end_ix = i + lag\n",
    "                # check if we are beyond the sequence               \n",
    "                if end_ix > len(sequence)-1:\n",
    "                    break\n",
    "            # gather input and output parts of the pattern\n",
    "                seq_x, seq_y = sequence[i:end_ix], sequence[end_ix]\n",
    "                X.append(seq_x)\n",
    "                y.append(seq_y)\n",
    "            return np.array(X), np.array(y)\n",
    "    \n",
    "        except Exception as e:\n",
    "            raise CustomException(e, sys)\n",
    "    \n",
    "def convert_to_supervised(dat, lag):\n",
    "        '''\n",
    "        This function takes a 2D sequennce, scales the array and splits\n",
    "        a given multivariate sequence into multiple samples where each sample has a specified number\n",
    "        of time steps. It returns multiple time steps as well as the scaler.\n",
    "        param df (DataFrame): Bike sharing demand for each community over time\n",
    "        param lag (int): History length or time lag\n",
    "        '''\n",
    "        \n",
    "        try:\n",
    "            if isinstance(dat, np.ndarray):\n",
    "                pass\n",
    "            else:\n",
    "                dat = dat.values\n",
    "            \n",
    "            m, n = dat.shape\n",
    "            # e.g., if lag = 7, BIXI demand of past 7*15 minutes\n",
    "            X = np.zeros((m-lag,lag, n))\n",
    "            Y = np.zeros((m-lag,n))\n",
    "\n",
    "            for i in range(0,n):\n",
    "                x, y = split_sequence(dat[:,i], lag)\n",
    "                X[:,:,i] = x\n",
    "                Y[:,i] = y\n",
    "            return X, Y\n",
    "    \n",
    "        except Exception as e:\n",
    "            raise CustomException(e, sys)   "
   ]
  },
  {
   "cell_type": "code",
   "execution_count": 6,
   "metadata": {},
   "outputs": [
    {
     "data": {
      "text/plain": [
       "(628, 7, 6400)"
      ]
     },
     "execution_count": 6,
     "metadata": {},
     "output_type": "execute_result"
    }
   ],
   "source": [
    "lag = 7\n",
    "X, y = convert_to_supervised(dat, lag)\n",
    "train_x = X.reshape(X.shape[0], 7, 100,64, 1)\n",
    "train_y = y.reshape(y.shape[0], 100, 64, 1)\n",
    "X.shape"
   ]
  },
  {
   "cell_type": "code",
   "execution_count": 7,
   "metadata": {},
   "outputs": [
    {
     "data": {
      "text/plain": [
       "(628, 6400)"
      ]
     },
     "execution_count": 7,
     "metadata": {},
     "output_type": "execute_result"
    }
   ],
   "source": [
    "y.shape"
   ]
  },
  {
   "cell_type": "code",
   "execution_count": 8,
   "metadata": {},
   "outputs": [
    {
     "name": "stdout",
     "output_type": "stream",
     "text": [
      "(628, 7, 100, 64, 1)\n",
      "(628, 100, 64, 1)\n"
     ]
    }
   ],
   "source": [
    "print(train_x.shape)\n",
    "print(train_y.shape)"
   ]
  },
  {
   "cell_type": "code",
   "execution_count": 21,
   "metadata": {},
   "outputs": [
    {
     "name": "stdout",
     "output_type": "stream",
     "text": [
      "Model: \"model_8\"\n",
      "_________________________________________________________________\n",
      " Layer (type)                Output Shape              Param #   \n",
      "=================================================================\n",
      " input_13 (InputLayer)       [(None, 7, 100, 64, 1)]   0         \n",
      "                                                                 \n",
      " conv_lstm2d_24 (ConvLSTM2D  (None, 7, 98, 62, 64)     150016    \n",
      " )                                                               \n",
      "                                                                 \n",
      " conv_lstm2d_25 (ConvLSTM2D  (None, 7, 96, 60, 32)     110720    \n",
      " )                                                               \n",
      "                                                                 \n",
      " flatten_12 (Flatten)        (None, 1290240)           0         \n",
      "                                                                 \n",
      " repeat_vector_12 (RepeatVe  (None, 6400, 1290240)     0         \n",
      " ctor)                                                           \n",
      "                                                                 \n",
      " lstm_19 (LSTM)              (None, 6400, 64)          330318080 \n",
      "                                                                 \n",
      " lstm_20 (LSTM)              (None, 6400, 32)          12416     \n",
      "                                                                 \n",
      " time_distributed_11 (TimeD  (None, 6400, 1)           33        \n",
      " istributed)                                                     \n",
      "                                                                 \n",
      " reshape_8 (Reshape)         (None, 100, 64, 1)        0         \n",
      "                                                                 \n",
      " conv2d_5 (Conv2D)           (None, 100, 64, 1)        10        \n",
      "                                                                 \n",
      "=================================================================\n",
      "Total params: 330591275 (1.23 GB)\n",
      "Trainable params: 330591275 (1.23 GB)\n",
      "Non-trainable params: 0 (0.00 Byte)\n",
      "_________________________________________________________________\n"
     ]
    }
   ],
   "source": [
    "# define encoder\n",
    "input = keras.Input(shape= (7, 100, 64, 1))\n",
    "encoder = keras.layers.ConvLSTM2D(filters=64, kernel_size=(3,3), activation='relu', return_sequences=True)(input)\n",
    "encoder = keras.layers.BatchNormalization()(encoder)\n",
    "encoder = keras.layers.ConvLSTM2D(filters=32, kernel_size=(3,3), activation='relu', return_sequences=True)(encoder)\n",
    "encoder = keras.layers.BatchNormalization()(encoder)\n",
    "encoder = keras.layers.Flatten()(encoder)\n",
    "# define predict decoder\n",
    "decoder= keras.layers.RepeatVector(100*64)(encoder)\n",
    "decoder= keras.layers.LSTM(64, activation='relu', return_sequences=True)(decoder)\n",
    "decoder = keras.layers.BatchNormalization()(decoder)\n",
    "decoder= keras.layers.LSTM(32, activation='relu', return_sequences=True)(decoder)\n",
    "decoder = keras.layers.BatchNormalization()(decoder)\n",
    "decoder = keras.layers.TimeDistributed(keras.layers.Dense(1, activation='relu'))(decoder)\n",
    "decoder = keras.layers.Reshape(target_shape=(100, 64, 1))(decoder)\n",
    "decoder = keras.layers.Convolution2D(filters=1, kernel_size=(3, 3), activation='linear', padding='same')(decoder) \n",
    "\n",
    "model = keras.Model(inputs= input, outputs=decoder)\n",
    "model.compile(\n",
    "            optimizer=keras.optimizers.Adam(learning_rate=0.001),\n",
    "            loss = 'mean_squared_error' ,\n",
    "            metrics=['MSE']           \n",
    "                           )\n",
    "\n",
    "model.summary()"
   ]
  },
  {
   "cell_type": "code",
   "execution_count": 10,
   "metadata": {},
   "outputs": [
    {
     "name": "stderr",
     "output_type": "stream",
     "text": [
      "2023-08-16 10:16:41.919380: W tensorflow/tsl/framework/cpu_allocator_impl.cc:83] Allocation of 1269760000 exceeds 10% of free system memory.\n",
      "2023-08-16 10:16:42.085583: W tensorflow/tsl/framework/cpu_allocator_impl.cc:83] Allocation of 1269760000 exceeds 10% of free system memory.\n"
     ]
    }
   ],
   "source": [
    "history = model.fit(train_x, train_y, epochs=1, batch_size=1, verbose=1)      "
   ]
  }
 ],
 "metadata": {
  "kernelspec": {
   "display_name": "Python 3",
   "language": "python",
   "name": "python3"
  },
  "language_info": {
   "codemirror_mode": {
    "name": "ipython",
    "version": 3
   },
   "file_extension": ".py",
   "mimetype": "text/x-python",
   "name": "python",
   "nbconvert_exporter": "python",
   "pygments_lexer": "ipython3",
   "version": "3.8.6"
  }
 },
 "nbformat": 4,
 "nbformat_minor": 4
}
