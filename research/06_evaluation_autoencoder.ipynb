{
 "cells": [
  {
   "cell_type": "code",
   "execution_count": 2,
   "metadata": {},
   "outputs": [],
   "source": [
    "import os"
   ]
  },
  {
   "cell_type": "code",
   "execution_count": 3,
   "metadata": {},
   "outputs": [
    {
     "data": {
      "text/plain": [
       "'/home/paladin/Downloads/Bixi-OD-Matrix-Prediction/Bixi-OD-Matrix-Prediction'"
      ]
     },
     "execution_count": 3,
     "metadata": {},
     "output_type": "execute_result"
    }
   ],
   "source": [
    "os.chdir('../')\n",
    "%pwd"
   ]
  },
  {
   "cell_type": "code",
   "execution_count": 4,
   "metadata": {},
   "outputs": [],
   "source": [
    "from dataclasses import dataclass\n",
    "from pathlib import Path\n",
    "\n",
    "\n",
    "@dataclass(frozen=True)\n",
    "class AutoencoderEvaluationConfig:\n",
    "    trained_od_model_path: Path\n",
    "    trained_tensor_model_path: Path       \n",
    "    test_data: Path\n",
    "    all_params: dict\n",
    "    params_od_size: list\n",
    "    params_tensor_size: list\n",
    "    params_batch_size: int"
   ]
  },
  {
   "cell_type": "code",
   "execution_count": 5,
   "metadata": {},
   "outputs": [],
   "source": [
    "from timeseriesPredictor.utils import read_yaml, create_directories\n",
    "from timeseriesPredictor.constants import *"
   ]
  },
  {
   "cell_type": "code",
   "execution_count": null,
   "metadata": {},
   "outputs": [],
   "source": [
    "class configurationManeger:\n",
    "    def __init__(self, \n",
    "                 config_filepath = CONFIG_FILE_PATH,\n",
    "                 secret_filepath = SECRET_FILE_PATH,                 \n",
    "                 params_filepath = PARAMS_FILE_PATH):\n",
    "        \n",
    "        self.config = read_yaml(config_filepath) \n",
    "        self.secret = read_yaml(secret_filepath)        \n",
    "        self.params = read_yaml(params_filepath)\n",
    "\n",
    "        create_directories([self.config.artifacts_root])\n",
    "   \n",
    "    \n",
    "    def get_autoencoder_training_config(self) -> TrainingAutoencoderConfig:\n",
    "        config= self.config.training_autoencoder        \n",
    "        \n",
    "        create_directories([config.root_dir])\n",
    "\n",
    "        training_autoencoder_config = TrainingAutoencoderConfig(\n",
    "        root_dir= config.root_dir,\n",
    "        trained_od_model_path= config.trained_od_model_path, \n",
    "        base_od_model_path = self.config.prepare_autoencoder_base_model.base_od_model_path,\n",
    "        trained_tensor_model_path= config.trained_tensor_model_path, \n",
    "        base_tensor_model_path = self.config.prepare_autoencoder_base_model.base_tensor_model_path,\n",
    "        training_od_data= self.config.data_transformation.local_train_od_dir,        \n",
    "        training_tensor_data=self.config.data_transformation.local_train_tensor_dir,        \n",
    "        params_epochs= self.params.EPOCHS, \n",
    "        params_batch_size= self.params.BATCH_SIZE,      \n",
    "        params_od_size= self.params.OD_SIZE,\n",
    "        params_tensor_size=self.params.TENSOR_SIZE,\n",
    "        learning_rate= self.params.LEARNING_RATE,\n",
    "        validation_ratio= self.params.VALIDATION_RATIO\n",
    "        )\n",
    "\n",
    "        return training_autoencoder_config"
   ]
  }
 ],
 "metadata": {
  "kernelspec": {
   "display_name": "venv",
   "language": "python",
   "name": "python3"
  },
  "language_info": {
   "codemirror_mode": {
    "name": "ipython",
    "version": 3
   },
   "file_extension": ".py",
   "mimetype": "text/x-python",
   "name": "python",
   "nbconvert_exporter": "python",
   "pygments_lexer": "ipython3",
   "version": "3.8.6"
  },
  "orig_nbformat": 4
 },
 "nbformat": 4,
 "nbformat_minor": 2
}
