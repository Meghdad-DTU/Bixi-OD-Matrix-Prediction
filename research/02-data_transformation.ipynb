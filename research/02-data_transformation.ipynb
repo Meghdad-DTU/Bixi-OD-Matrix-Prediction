{
 "cells": [
  {
   "cell_type": "code",
   "execution_count": 1,
   "metadata": {},
   "outputs": [],
   "source": [
    "import os"
   ]
  },
  {
   "cell_type": "code",
   "execution_count": 2,
   "metadata": {},
   "outputs": [
    {
     "data": {
      "text/plain": [
       "'/home/paladin/Downloads/Bixi-OD-Matrix-Prediction/Bixi-OD-Matrix-Prediction'"
      ]
     },
     "execution_count": 2,
     "metadata": {},
     "output_type": "execute_result"
    }
   ],
   "source": [
    "os.chdir('../')\n",
    "%pwd"
   ]
  },
  {
   "cell_type": "code",
   "execution_count": 3,
   "metadata": {},
   "outputs": [],
   "source": [
    "from dataclasses import dataclass\n",
    "from pathlib import Path\n",
    "\n",
    "@dataclass(frozen=True)\n",
    "class DataTransformationConfig:\n",
    "    root_dir: Path\n",
    "    local_data_file: Path \n",
    "    local_train_od_dir: Path       \n",
    "    local_test_od_dir: Path\n",
    "    local_scaler_od_dir: Path \n",
    "    local_train_tensor_dir: Path   \n",
    "    local_test_tensor_dir: Path\n",
    "    local_scaler_tensor_dir: Path"
   ]
  },
  {
   "cell_type": "code",
   "execution_count": 4,
   "metadata": {},
   "outputs": [],
   "source": [
    "from timeseriesPredictor.utils import create_directories, read_yaml\n",
    "from timeseriesPredictor.constants import *"
   ]
  },
  {
   "cell_type": "code",
   "execution_count": 5,
   "metadata": {},
   "outputs": [],
   "source": [
    "class configurationManeger:\n",
    "    def __init__(self, \n",
    "                 config_filepath = CONFIG_FILE_PATH,\n",
    "                 secret_filepath = SECRET_FILE_PATH,                 \n",
    "                 params_filepath = PARAMS_FILE_PATH):\n",
    "        \n",
    "        self.config = read_yaml(config_filepath) \n",
    "        self.secret = read_yaml(secret_filepath)        \n",
    "        self.params = read_yaml(params_filepath)\n",
    "\n",
    "        create_directories([self.config.artifacts_root])\n",
    "\n",
    "    \n",
    "    def get_data_transformation_config(self) -> DataTransformationConfig:\n",
    "        config = self.config.data_transformation             \n",
    "\n",
    "        create_directories([config.root_dir])\n",
    "\n",
    "        data_trnsformation_config = DataTransformationConfig(\n",
    "            root_dir= config.root_dir,\n",
    "            local_data_file=self.config.data_ingestion.local_data_file,           \n",
    "            local_train_od_dir= config.local_train_od_dir,            \n",
    "            local_test_od_dir= config.local_test_od_dir,\n",
    "            local_scaler_od_dir=config.local_scaler_od_dir,\n",
    "            local_train_tensor_dir= config.local_train_tensor_dir,            \n",
    "            local_test_tensor_dir= config.local_test_tensor_dir,\n",
    "            local_scaler_tensor_dir= config.local_scaler_tensor_dir         \n",
    "\n",
    "        )\n",
    "\n",
    "        return data_trnsformation_config"
   ]
  },
  {
   "cell_type": "code",
   "execution_count": 6,
   "metadata": {},
   "outputs": [],
   "source": [
    "import sys\n",
    "import os\n",
    "import pandas as pd\n",
    "from timeseriesPredictor.utils import OD_tensor_matrix, train_test_split, save_pickle\n",
    "from timeseriesPredictor.exception import CustomException\n",
    "from timeseriesPredictor.logger import logging\n",
    "from sklearn.preprocessing import FunctionTransformer\n",
    "from sklearn.pipeline import Pipeline\n",
    "from box import ConfigBox\n",
    "\n",
    "from sklearn.preprocessing import StandardScaler"
   ]
  },
  {
   "cell_type": "code",
   "execution_count": 7,
   "metadata": {},
   "outputs": [],
   "source": [
    "class DataTransformation:\n",
    "    def __init__(self, config: DataTransformationConfig):\n",
    "        self.config = config\n",
    "\n",
    "    def get_data_transformer_object(self):\n",
    "        try:            \n",
    "            OD_matrix_pipeline = Pipeline(\n",
    "                steps=[\n",
    "                    ('matrix_creation', \n",
    "                    FunctionTransformer(OD_tensor_matrix)),\n",
    "                    ('train_val_test_split', \n",
    "                      FunctionTransformer(train_test_split, kw_args={'train_test_ratio':0.75}))\n",
    "                ]\n",
    "            )\n",
    "\n",
    "            tensor_matrix_pipeline = Pipeline(\n",
    "                steps=[\n",
    "                    ('matrix_creation', \n",
    "                    FunctionTransformer(OD_tensor_matrix, kw_args={'tensor': True})),\n",
    "                    ('train_val_test_split', \n",
    "                      FunctionTransformer(train_test_split, kw_args={'train_test_ratio':0.75}))\n",
    "                ]\n",
    "            )\n",
    "            return  ConfigBox({'OD_matrix_pipeline': OD_matrix_pipeline, \n",
    "                               'tensor_matrix_pipeline': tensor_matrix_pipeline})           \n",
    "        \n",
    "        except Exception as e:\n",
    "            raise CustomException(e, sys)\n",
    "        \n",
    "    \n",
    "    def initiate_data_transformation(self):\n",
    "        if not os.path.exists(self.config.local_data_file):\n",
    "            logging.info(f\"WARNING: {self.config.local_data_file} does not exist!\")             \n",
    "        \n",
    "        else:  \n",
    "            \n",
    "            df = pd.read_csv(self.config.local_data_file)\n",
    "            logging.info('Read data is completed!')\n",
    "            df['start_date'] = pd.to_datetime(df['start_date'], format='ISO8601')\n",
    "            logging.info('Changing object to datetime format is completed!')\n",
    "           \n",
    "            logging.info(\"Obtaining preprocessing object\")\n",
    "            preprocessing_obj = self.get_data_transformer_object()  \n",
    "\n",
    "            logging.info(f\"Applying OD preprocessing object on dataframe\")\n",
    "            matrix_train, matrix_test = preprocessing_obj.OD_matrix_pipeline.fit_transform(df)             \n",
    "            scaler = StandardScaler()\n",
    "            l, m, n , c = matrix_train.shape\n",
    "            scaled_matrix_train = scaler.fit_transform(matrix_train.reshape(l, m*n)).reshape(l, m, n , c) \n",
    "            l, m, n , c = matrix_test.shape\n",
    "            scaled_matrix_test = scaler.transform(matrix_test.reshape(l, m*n)).reshape(l, m, n , c)             \n",
    "\n",
    "\n",
    "            save_pickle(path= self.config.local_train_od_dir, obj= scaled_matrix_train)\n",
    "            save_pickle(path = self.config.local_test_od_dir, obj= scaled_matrix_test)\n",
    "            save_pickle(path= self.config.local_scaler_od_dir, obj= scaler)                     \n",
    "  \n",
    "\n",
    "            logging.info(f\"Applying tensor preprocessing object on dataframe\")\n",
    "            matrix_train, matrix_test = preprocessing_obj.tensor_matrix_pipeline.fit_transform(df)\n",
    "            scaler = StandardScaler()\n",
    "            l, m, n , c = matrix_train.shape\n",
    "            scaled_matrix_train = scaler.fit_transform(matrix_train.reshape(l, m*n)).reshape(l, m, n , c) \n",
    "            l, m, n , c = matrix_test.shape\n",
    "            scaled_matrix_test = scaler.transform(matrix_test.reshape(l, m*n)).reshape(l, m, n , c)   \n",
    "            save_pickle(path= self.config.local_train_tensor_dir , obj= scaled_matrix_train)\n",
    "            save_pickle(path= self.config.local_test_tensor_dir , obj= scaled_matrix_test)\n",
    "            save_pickle(path= self.config.local_scaler_tensor_dir, obj= scaler)\n",
    "             \n"
   ]
  },
  {
   "cell_type": "code",
   "execution_count": 8,
   "metadata": {},
   "outputs": [],
   "source": [
    "try:\n",
    "    config = configurationManeger()\n",
    "    data_transformation_config = config.get_data_transformation_config()\n",
    "    data_transformation = DataTransformation(config=data_transformation_config)\n",
    "    data_transformation.initiate_data_transformation()\n",
    "\n",
    "except Exception as e:\n",
    "    raise CustomException(e, sys)"
   ]
  }
 ],
 "metadata": {
  "kernelspec": {
   "display_name": "venv",
   "language": "python",
   "name": "python3"
  },
  "language_info": {
   "codemirror_mode": {
    "name": "ipython",
    "version": 3
   },
   "file_extension": ".py",
   "mimetype": "text/x-python",
   "name": "python",
   "nbconvert_exporter": "python",
   "pygments_lexer": "ipython3",
   "version": "3.8.6"
  },
  "orig_nbformat": 4
 },
 "nbformat": 4,
 "nbformat_minor": 2
}
